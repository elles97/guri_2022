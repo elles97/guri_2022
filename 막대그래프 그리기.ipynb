{
 "cells": [
  {
   "cell_type": "code",
   "execution_count": 3,
   "id": "35508b38-3774-437d-a5d2-920d74b90ecf",
   "metadata": {},
   "outputs": [],
   "source": [
    "#[파이썬에서 그래프 그리는 3단계(bar함수)]\n",
    "#1. matplotlib 라이브러리 불러오기\n",
    "import matplotlib.pyplot as plt\n",
    "#2. 그래프 종류 선택 및 속성 설정하기\n",
    "\n",
    "#3. 그래프 보여주기\n",
    "plt.show()"
   ]
  },
  {
   "cell_type": "code",
   "execution_count": 4,
   "id": "48a17cb4-9ce3-4b98-8e24-7ec214d82c20",
   "metadata": {},
   "outputs": [],
   "source": [
    "#[파이썬에서 그래프 그리는 3단계(barh함수)]\n",
    "#1. matplotlib 라이브러리 불러오기\n",
    "import matplotlib.pyplot as plt\n",
    "#2. 그래프 종류 선택 및 속성 설정하기\n",
    "\n",
    "#3. 그래프 보여주기\n",
    "plt.show()"
   ]
  },
  {
   "cell_type": "code",
   "execution_count": null,
   "id": "1c0b8b4b-efcb-446b-aa0d-9414c992e589",
   "metadata": {},
   "outputs": [],
   "source": []
  }
 ],
 "metadata": {
  "kernelspec": {
   "display_name": "Python 3 (ipykernel)",
   "language": "python",
   "name": "python3"
  },
  "language_info": {
   "codemirror_mode": {
    "name": "ipython",
    "version": 3
   },
   "file_extension": ".py",
   "mimetype": "text/x-python",
   "name": "python",
   "nbconvert_exporter": "python",
   "pygments_lexer": "ipython3",
   "version": "3.9.10"
  }
 },
 "nbformat": 4,
 "nbformat_minor": 5
}
