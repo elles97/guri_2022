{
 "cells": [
  {
   "cell_type": "code",
   "execution_count": 14,
   "id": "bb66918b-7ed3-448f-9538-e14fbfe77776",
   "metadata": {},
   "outputs": [],
   "source": [
    "# 필요한 라이브러리 불러오기\n",
    "import matplotlib.pyplot as plt     \n",
    "import csv\n",
    "#import urllib\n",
    "#from matplotlib import font_manager\n",
    "# 글꼴을 내려받습니다.\n",
    "#font_path = 'NanumGothic.ttf'\n",
    "#with open(font_path, 'wb') as f: \n",
    "#    f.write(urllib.request.urlopen(\"https://github.com/team-monolith-product/jupyter-nanum/raw/main/NanumGothic.ttf\").read())\n",
    "\n",
    "# 글꼴을 등록합니다.\n",
    "#font_manager.fontManager.addfont(font_path)\n",
    "#plt.rcParams['font.family'] = font_manager.FontProperties(fname=font_path).get_name()\n",
    "\n",
    "# 인구 데이터 불러오기\n",
    "f=open('population_mf.csv', encoding='cp949')\n",
    "data=csv.reader(f)\n",
    "m=[]\n",
    "f=[]\n",
    "# 남성, 여성의 데이터를 연령 순으로 저장하기\n",
    "\n",
    "for row in data :             \n",
    "    if '제주' in row[0] :\n",
    "        for i in range(3, 104) :     \n",
    "            m.append(-int(row[i]))\n",
    "            f.append(int(row[i+103]))\n",
    "        break\n",
    "#print(m ,f)\n",
    "\n",
    "#저장된 데이터를 꺽은선 그래프로 그리기\n",
    "#plt.figure(dpi=200)\n",
    "#plt.style.use('ggplot')\n",
    "#plt.title('제주도의 성별 인구 구조 ')\n",
    "#plt.barh(range(101), m)\n",
    "#plt.barh(range(101), f)\n",
    "#plt.rcParams['axes.unicode_minus']=False\n",
    "#plt.legend()\n",
    "# 결과 그래프 보여주기\n",
    "#plt.savefig('')\n",
    "#plt.show()"
   ]
  },
  {
   "cell_type": "code",
   "execution_count": null,
   "id": "af9a8ea1-9fb0-40ea-be60-a2e0f0ecb043",
   "metadata": {},
   "outputs": [],
   "source": []
  },
  {
   "cell_type": "code",
   "execution_count": null,
   "id": "b07ad6ff-a56c-4fd7-93e6-e3f7492e0b81",
   "metadata": {},
   "outputs": [],
   "source": []
  }
 ],
 "metadata": {
  "kernelspec": {
   "display_name": "Python 3 (ipykernel)",
   "language": "python",
   "name": "python3"
  },
  "language_info": {
   "codemirror_mode": {
    "name": "ipython",
    "version": 3
   },
   "file_extension": ".py",
   "mimetype": "text/x-python",
   "name": "python",
   "nbconvert_exporter": "python",
   "pygments_lexer": "ipython3",
   "version": "3.9.10"
  }
 },
 "nbformat": 4,
 "nbformat_minor": 5
}
