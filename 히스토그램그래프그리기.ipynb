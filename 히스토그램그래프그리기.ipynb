{
 "cells": [
  {
   "cell_type": "code",
   "execution_count": null,
   "id": "35508b38-3774-437d-a5d2-920d74b90ecf",
   "metadata": {},
   "outputs": [],
   "source": [
    "#1. matplotlib 라이브러리 불러오기\n",
    "import matplotlib.pyplot as plt\n",
    "#2. 그래프 종류 선택 및 속성 설정하기\n",
    "plt.plot([10,5,20,7])\n",
    "#3. 그래프 보여주기\n",
    "plt.show()"
   ]
  }
 ],
 "metadata": {
  "kernelspec": {
   "display_name": "Python 3 (ipykernel)",
   "language": "python",
   "name": "python3"
  },
  "language_info": {
   "codemirror_mode": {
    "name": "ipython",
    "version": 3
   },
   "file_extension": ".py",
   "mimetype": "text/x-python",
   "name": "python",
   "nbconvert_exporter": "python",
   "pygments_lexer": "ipython3",
   "version": "3.9.10"
  }
 },
 "nbformat": 4,
 "nbformat_minor": 5
}
