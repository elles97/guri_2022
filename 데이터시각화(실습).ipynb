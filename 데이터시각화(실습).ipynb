{
 "cells": [
  {
   "cell_type": "markdown",
   "metadata": {
    "id": "jCz-YaTWWfDS"
   },
   "source": [
    "# 1. matplotlib 라이브러리\n",
    "\n",
    "\n",
    "> 라이브러리는 다양한 명령어를 포함하고 있다. </br>\n",
    "\n",
    "ex. operator 라이브러리 : 각종 연산자 명령어들 집합</br>\n",
    "ex. random 라이브러리 : 임의의 수를 뽑는 명령어들 집합</br>\n",
    "\n",
    "</br>\n",
    "</br>\n",
    "\n",
    "\n",
    "<img src='https://github.com/teacher-jiejie/allinone_AI/blob/images/80_%E1%84%85%E1%85%A1%E1%84%8B%E1%85%B5%E1%84%87%E1%85%B3%E1%84%85%E1%85%A5%E1%84%85%E1%85%B5.png?raw=true' width = 500>\n",
    "\n",
    "</br>\n",
    "</br>\n",
    "</br>\n",
    "\n",
    "> import 라이브러리명 as 닉네임</br>\n",
    "\n",
    "닉네임.명령어A()</br>\n",
    "닉네임.명령어B()</br>"
   ]
  },
  {
   "cell_type": "markdown",
   "metadata": {
    "id": "v7z3sy5wZZl1"
   },
   "source": [
    "매출그래프 그리기 \n",
    "\n",
    "```\n",
    "3-7월 매출\n",
    "\n",
    "3월 = 1\n",
    "4월 = 5\n",
    "5월 = 7\n",
    "6월 = 3\n",
    "7월 = 7\n",
    "```\n",
    "\n"
   ]
  },
  {
   "cell_type": "markdown",
   "metadata": {
    "id": "xoMzh3LR3xJo"
   },
   "source": [
    "### 선 그래프 그리기"
   ]
  },
  {
   "cell_type": "code",
   "execution_count": null,
   "metadata": {
    "colab": {
     "base_uri": "https://localhost:8080/",
     "height": 283
    },
    "id": "biyG6qVSTUnF",
    "outputId": "f371d016-bea6-4319-e6bd-aa5512137418"
   },
   "outputs": [],
   "source": [
    "import matplotlib.pyplot as plt\n",
    "\n",
    "plt.plot([1,5,7,3,7])"
   ]
  },
  {
   "cell_type": "code",
   "execution_count": null,
   "metadata": {
    "colab": {
     "base_uri": "https://localhost:8080/",
     "height": 265
    },
    "id": "Vehi9X7WuGG2",
    "outputId": "e6220f15-efc1-4c2b-8f70-3baa58c2c22e"
   },
   "outputs": [],
   "source": [
    "plt.plot([1,5,7,3,7])\n",
    "plt.show()"
   ]
  },
  {
   "cell_type": "code",
   "execution_count": null,
   "metadata": {
    "colab": {
     "base_uri": "https://localhost:8080/",
     "height": 265
    },
    "id": "NdQDSrMJuGLo",
    "outputId": "97e9c41b-79e7-4d18-ce03-0489c021a9bf"
   },
   "outputs": [],
   "source": [
    "sales = [1,5,7,3,7]\n",
    "\n",
    "# 매출그래프\n",
    "plt.plot(sales)\n",
    "plt.show()"
   ]
  },
  {
   "cell_type": "markdown",
   "metadata": {
    "id": "RcA4Ybc8akoE"
   },
   "source": [
    "### x축 추가하기\n",
    "\n",
    "\n",
    "```\n",
    "plt.plot(x축, y축)\n",
    "plt.show()\n",
    "```\n",
    "\n"
   ]
  },
  {
   "cell_type": "code",
   "execution_count": null,
   "metadata": {
    "colab": {
     "base_uri": "https://localhost:8080/",
     "height": 265
    },
    "id": "xxcnexay1W15",
    "outputId": "7ab3a20b-d9bf-4c5c-877d-a98edd1f7704"
   },
   "outputs": [],
   "source": [
    "# x축 추가\n",
    "mon = ['mar','apr','may','jun','jul']\n",
    "sales = [1, 5, 7, 3, 7]\n",
    "\n",
    "# X축, y축\n",
    "plt.plot(mon, sales)\n",
    "plt.show()"
   ]
  },
  {
   "cell_type": "markdown",
   "metadata": {
    "id": "u4SN93z85O1E"
   },
   "source": [
    "# 2. 그래프 꾸미기"
   ]
  },
  {
   "cell_type": "markdown",
   "metadata": {
    "id": "phhY2mTxa-vI"
   },
   "source": [
    "### 그래프 제목 추가하기\n",
    "\n",
    "\n",
    "```\n",
    "plt.title('제목')\n",
    "plt.plot(x축, y축)\n",
    "plt.show()\n",
    "```\n",
    "\n"
   ]
  },
  {
   "cell_type": "code",
   "execution_count": null,
   "metadata": {
    "colab": {
     "base_uri": "https://localhost:8080/",
     "height": 281
    },
    "id": "4a2tllq2bHqv",
    "outputId": "6d3813e4-a394-4e40-9779-ffafd5e97071"
   },
   "outputs": [],
   "source": [
    "plt.title('monthly sales')\n",
    "plt.plot(mon, sales)\n",
    "plt.show()"
   ]
  },
  {
   "cell_type": "code",
   "execution_count": null,
   "metadata": {
    "colab": {
     "base_uri": "https://localhost:8080/",
     "height": 733
    },
    "id": "GIpv8hFY1Zd3",
    "outputId": "bb5ba471-0339-4f00-810d-5429e3bffbea"
   },
   "outputs": [],
   "source": [
    "plt.title('월별 판매 실적')\n",
    "plt.plot(mon, sales)\n",
    "plt.show()"
   ]
  },
  {
   "cell_type": "markdown",
   "metadata": {
    "id": "A9LD5PW_12OW",
    "tags": []
   },
   "source": [
    "### 한글 폰트 설정\n",
    "import urllib\n",
    "import matplotlib.pyplot as plt\n",
    "from matplotlib import font_manager\n",
    "# 출처 : https://github.com/team-monolith-product/jupyter-nanum\n",
    "# 혹시 작동하지 않으면 위 깃허브 주소를 참고해주세요.\n",
    "\n",
    "# 글꼴을 내려받습니다.\n",
    "font_path = 'NanumGothic.ttf'\n",
    "with open(font_path, 'wb') as f: \n",
    "    f.write(urllib.request.urlopen(\"https://github.com/team-monolith-product/jupyter-nanum/raw/main/NanumGothic.ttf\").read())\n",
    "\n",
    "# 글꼴을 등록합니다.\n",
    "font_manager.fontManager.addfont(font_path)\n",
    "plt.rcParams['font.family'] = font_manager.FontProperties(fname=font_path).get_name()\n",
    "\n"
   ]
  },
  {
   "cell_type": "code",
   "execution_count": null,
   "metadata": {
    "colab": {
     "base_uri": "https://localhost:8080/",
     "height": 279
    },
    "id": "CK5BxVMS1W4e",
    "outputId": "ae9a4a9e-350d-40e2-fa37-8dd46155100b"
   },
   "outputs": [],
   "source": [
    "import urllib\n",
    "import matplotlib.pyplot as plt\n",
    "from matplotlib import font_manager\n",
    "# 글꼴을 내려받습니다.\n",
    "font_path = 'NanumGothic.ttf'\n",
    "with open(font_path, 'wb') as f: \n",
    "    f.write(urllib.request.urlopen(\"https://github.com/team-monolith-product/jupyter-nanum/raw/main/NanumGothic.ttf\").read())\n",
    "\n",
    "# 글꼴을 등록합니다.\n",
    "font_manager.fontManager.addfont(font_path)\n",
    "plt.rcParams['font.family'] = font_manager.FontProperties(fname=font_path).get_name()\n",
    "\n",
    "mon = ['mar','apr','may','jun','jul']\n",
    "sales = [1,5,7,3,7]\n",
    "\n",
    "plt.title('월별 판매 실적')\n",
    "plt.plot(mon, sales)\n",
    "plt.show()"
   ]
  },
  {
   "cell_type": "code",
   "execution_count": null,
   "metadata": {
    "id": "wqsdr57tbizJ"
   },
   "outputs": [],
   "source": [
    "### 그래프 색상 변경\n",
    "\n",
    "\n",
    "```\n",
    "# 그래프 그리는 명령어에 color 옵션 추가\n",
    "plt.plot(x축, y축, color = 'r')\n",
    "```\n",
    "\n"
   ]
  },
  {
   "cell_type": "code",
   "execution_count": null,
   "metadata": {
    "colab": {
     "base_uri": "https://localhost:8080/",
     "height": 279
    },
    "id": "X5oiodjF1W7N",
    "outputId": "460ce93e-1965-43cc-fb26-c55cfa5296de"
   },
   "outputs": [],
   "source": [
    "#plt.rc('font', family='NanumGothic')\n",
    "plt.title('월별 판매 실적')\n",
    "# 그래프 색상 변경\n",
    "plt.plot(mon, sales, color ='r')\n",
    "plt.show()"
   ]
  },
  {
   "cell_type": "markdown",
   "metadata": {
    "id": "i7uniz-93Olm"
   },
   "source": [
    "<img src = 'https://github.com/teacher-jiejie/allinone_AI/blob/images/22_%EA%B7%B8%EB%9E%98%ED%94%84%20%EC%BB%AC%EB%9F%AC.png?raw=true' width = 500>"
   ]
  },
  {
   "cell_type": "markdown",
   "metadata": {
    "id": "R3AjOkBIb8ni"
   },
   "source": [
    "### 해상도 설정 : 그래프를 선명하게 \n",
    "\n",
    "```\n",
    "plt.figure(dpi=해상도)\n",
    "plt.title('제목')\n",
    "plt.plot(x축, y축, color = '')\n",
    "plt.show()\n",
    "```\n"
   ]
  },
  {
   "cell_type": "code",
   "execution_count": null,
   "metadata": {
    "colab": {
     "base_uri": "https://localhost:8080/",
     "height": 383
    },
    "id": "SecipY6Q3R1k",
    "outputId": "35aee14a-6664-4cb5-ab28-c038235d64a7"
   },
   "outputs": [],
   "source": [
    "# 해상도 설정  \n",
    "plt.figure(dpi=100)\n",
    "plt.rc('font', family='NanumGothic')\n",
    "plt.title('월별 판매 실적')\n",
    "plt.plot(mon, sales, color ='b')\n",
    "plt.show()"
   ]
  },
  {
   "cell_type": "markdown",
   "metadata": {
    "id": "JMWi-VCudaDM"
   },
   "source": [
    "### 범례 나타내기 \n",
    "\n",
    "\n",
    "```\n",
    "plt.plot(x축, y축, label = '범례 내용')\n",
    "plt.legend()      # 범례를 화면에 나타내기\n",
    "plt.show()\n",
    "```\n",
    "\n"
   ]
  },
  {
   "cell_type": "code",
   "execution_count": null,
   "metadata": {
    "colab": {
     "base_uri": "https://localhost:8080/",
     "height": 383
    },
    "id": "svj84rbv3R4O",
    "outputId": "78c3ca8a-1970-4b34-abd4-d0c7ecf64ad1"
   },
   "outputs": [],
   "source": [
    "plt.figure(dpi=100)\n",
    "plt.title('월별 판매 실적')\n",
    "# 범례 label\n",
    "plt.plot(mon, sales, color = 'b', label = '단위:개수')\n",
    "# 범례를 화면에 나타내는 legend()\n",
    "plt.legend()\n",
    "plt.show()"
   ]
  },
  {
   "cell_type": "markdown",
   "metadata": {
    "id": "eZjmElRi2y4T"
   },
   "source": [
    "## 그래프 그리는 포맷\n",
    "\n",
    "\n",
    "```\n",
    "import matplotlib.pyplot as plt\n",
    "\n",
    "plt.title('그래프 제목')\n",
    "plt.plot(x축 데이터, y축 데이터)\n",
    "plt.show()\n",
    "```\n",
    "\n",
    "그래프 명령어 plt.plot()에 사용가능한 옵션\n",
    "\n",
    "```\n",
    "color = '색상이름'             \n",
    "label = '범례내용'\n",
    "```\n",
    "\n",
    "기타 사용가능한 명령어\n",
    "```\n",
    "plt.figure(dpi=150)     # 그래프 해상도 설정 \n",
    "plt.legend()            # 범례 나타내기\n",
    "```\n",
    "\n",
    "\n",
    "\n",
    "\n",
    "\n"
   ]
  },
  {
   "cell_type": "markdown",
   "metadata": {
    "id": "oHuXRLzd34dm"
   },
   "source": [
    "# 3. 다양한 그래프\n",
    "### plt.bar() : 막대그래프 - 세로형"
   ]
  },
  {
   "cell_type": "code",
   "execution_count": null,
   "metadata": {
    "colab": {
     "base_uri": "https://localhost:8080/",
     "height": 279
    },
    "id": "WYPB2D8T9Unu",
    "outputId": "235daf4a-49b8-4bf4-b6bf-f2030714868f"
   },
   "outputs": [],
   "source": [
    "plt.rc('font', family='NanumGothic')\n",
    "plt.title('월별 판매 실적')\n",
    "plt.bar(mon, sales)\n",
    "plt.show()"
   ]
  },
  {
   "cell_type": "code",
   "execution_count": null,
   "metadata": {
    "colab": {
     "base_uri": "https://localhost:8080/",
     "height": 189
    },
    "id": "1JsxUnGv6h-V",
    "outputId": "6d152923-0637-4b6b-e015-cf8f89887ee4"
   },
   "outputs": [],
   "source": [
    "plt.bar(sales)\n",
    "plt.show()"
   ]
  },
  {
   "cell_type": "markdown",
   "metadata": {
    "id": "uIJ-1Ky3e1MD"
   },
   "source": [
    "plt.bar()는 x축 리스트, y축 리스트 두 개 모두 넣어야 한다."
   ]
  },
  {
   "cell_type": "markdown",
   "metadata": {
    "id": "L61iZcYz9YFw"
   },
   "source": [
    "### range() 사용하기"
   ]
  },
  {
   "cell_type": "code",
   "execution_count": null,
   "metadata": {
    "colab": {
     "base_uri": "https://localhost:8080/",
     "height": 279
    },
    "id": "4cUyKl6d2UjY",
    "outputId": "40646253-4543-4dca-e787-8efafda626a3"
   },
   "outputs": [],
   "source": [
    "plt.rc('font', family='NanumGothic')\n",
    "plt.title('월별 판매 실적')\n",
    "plt.bar(range(3, 8), sales, color ='b')\n",
    "plt.show()"
   ]
  },
  {
   "cell_type": "markdown",
   "metadata": {
    "id": "1sgMxpnN9fHb"
   },
   "source": [
    "### range(시작숫자, 종료숫자, 간격)\n",
    "\n",
    "시작숫자부터 종료숫자까지 간격을 두어 숫자를 선택함 <br/>\n",
    "\n",
    "\n",
    "```\n",
    "range(2, 11, 2) \n",
    "```\n",
    "2부터 11까지 간격 2를 두고 숫자 선택\n",
    "-> 2, 4, 6, 8, 10 "
   ]
  },
  {
   "cell_type": "code",
   "execution_count": null,
   "metadata": {
    "colab": {
     "base_uri": "https://localhost:8080/",
     "height": 279
    },
    "id": "QXX5VB4G9fUG",
    "outputId": "906a5177-721c-4ade-a04f-18c4973b05bf"
   },
   "outputs": [],
   "source": [
    "plt.rc('font', family='NanumGothic')\n",
    "plt.title('월별 판매 실적')\n",
    "plt.bar(range(2, 12, 2), sales, color ='b')\n",
    "plt.show()"
   ]
  },
  {
   "cell_type": "markdown",
   "metadata": {
    "id": "_q8F5leMfFmr"
   },
   "source": [
    "### plt.barh() : 막대그래프 - 가로형"
   ]
  },
  {
   "cell_type": "code",
   "execution_count": null,
   "metadata": {
    "colab": {
     "base_uri": "https://localhost:8080/",
     "height": 279
    },
    "id": "qPXXo7Jr2Ulf",
    "outputId": "454ee6a3-24d0-48d6-d49d-f6f3c449ecb4"
   },
   "outputs": [],
   "source": [
    "plt.rc('font', family='NanumGothic')\n",
    "plt.title('월별 판매 실적')\n",
    "plt.barh(range(3, 8), sales, color = 'hotpink')\n",
    "plt.show()"
   ]
  },
  {
   "cell_type": "markdown",
   "metadata": {
    "id": "TJAcLdaFfLZs"
   },
   "source": [
    "### plt.hist() : 히스토그램 \n"
   ]
  },
  {
   "cell_type": "code",
   "execution_count": null,
   "metadata": {
    "colab": {
     "base_uri": "https://localhost:8080/"
    },
    "id": "toqwyoVFgG1C",
    "outputId": "d226a229-298b-47be-f917-750ee5d0babb"
   },
   "outputs": [],
   "source": [
    "print(sales)"
   ]
  },
  {
   "cell_type": "code",
   "execution_count": null,
   "metadata": {
    "colab": {
     "base_uri": "https://localhost:8080/",
     "height": 279
    },
    "id": "AqFlGEnV2UqC",
    "outputId": "c68a3612-f5ea-4fb3-ab18-126ebaa65719"
   },
   "outputs": [],
   "source": [
    "plt.rc('font', family='NanumGothic')\n",
    "plt.title('판매 실적 히스토그램')\n",
    "plt.hist(sales)\n",
    "plt.show()"
   ]
  },
  {
   "cell_type": "markdown",
   "metadata": {
    "id": "LSpOVeAcgJ0e"
   },
   "source": [
    "### plt.pie() : 원그래프 \n",
    "\n",
    "\n",
    "```\n",
    "우리학교 100명의 혈액형을 조사한 결과가 다음과 같다.\n",
    "\n",
    "A형 = 28명\n",
    "B형 = 20명\n",
    "O형 = 40명\n",
    "AB형 = 12명 \n",
    "```\n",
    "\n"
   ]
  },
  {
   "cell_type": "code",
   "execution_count": null,
   "metadata": {
    "colab": {
     "base_uri": "https://localhost:8080/",
     "height": 248
    },
    "id": "SAVRJcNY2T3j",
    "outputId": "3bbc0e06-2da7-4285-a0ea-45277a1524f6"
   },
   "outputs": [],
   "source": [
    "b_type = [28, 20, 40, 12]\n",
    "\n",
    "plt.pie(b_type)\n",
    "plt.show()"
   ]
  },
  {
   "cell_type": "markdown",
   "metadata": {
    "id": "-_S46po_hylb"
   },
   "source": [
    "#### 원그래프 각 항목에 라벨 붙이기 \n",
    "\n",
    "\n",
    "```\n",
    "plt.pie(리스트, labels = 라벨리스트)\n",
    "```\n",
    "\n"
   ]
  },
  {
   "cell_type": "code",
   "execution_count": null,
   "metadata": {
    "colab": {
     "base_uri": "https://localhost:8080/",
     "height": 263
    },
    "id": "ra2EFVAt1W9k",
    "outputId": "7d7cb89e-bc4a-4702-da3d-f5e088c563eb"
   },
   "outputs": [],
   "source": [
    "b_type = [25, 19, 37, 11]\n",
    "b_name = ['A형', 'B형', 'O형', 'AB형']\n",
    "\n",
    "plt.rc('font', family='NanumGothic')\n",
    "plt.title('혈액형 비율')\n",
    "plt.pie(b_type, labels = b_name)\n",
    "plt.show()"
   ]
  },
  {
   "cell_type": "markdown",
   "metadata": {
    "id": "tInYOLqBiA20"
   },
   "source": [
    "#### 원그래프 항목에 퍼센트 표시\n",
    "\n",
    "```\n",
    "plt.pie(리스트, labels = 라벨리스트, autopct = '%1.1f%%')\n",
    "```\n",
    "\n"
   ]
  },
  {
   "cell_type": "code",
   "execution_count": null,
   "metadata": {
    "colab": {
     "base_uri": "https://localhost:8080/",
     "height": 263
    },
    "id": "B9NuAQi4uGOR",
    "outputId": "575cc53e-e43c-4a77-d9b1-fafe18ba3441"
   },
   "outputs": [],
   "source": [
    "b_type = [25, 19, 37, 11]\n",
    "b_name = ['A형', 'B형', 'O형', 'AB형']\n",
    "\n",
    "plt.rc('font', family='NanumGothic')\n",
    "plt.title('혈액형 비율')\n",
    "plt.pie(b_type, labels = b_name, autopct='%1.1f%%')\n",
    "plt.show()"
   ]
  },
  {
   "cell_type": "markdown",
   "metadata": {
    "id": "wNPD_4QmiK3S"
   },
   "source": [
    "### plt.scatter() : 산점도 \n",
    "\n",
    "> 국어를 잘하는 친구가 영어도 잘할까?\n",
    "\n",
    "\n",
    "```\n",
    "국어점수와 영어점수의 상관관계 알아보기\n",
    "\n",
    "kor =[80, 20, 50, 20, 10, 50, 60, 30, 60]\n",
    "eng =[90, 40, 60, 40, 10, 30, 50, 70, 90]\n",
    "```\n"
   ]
  },
  {
   "cell_type": "code",
   "execution_count": null,
   "metadata": {
    "colab": {
     "base_uri": "https://localhost:8080/",
     "height": 264
    },
    "id": "7M2BWKdu49qw",
    "outputId": "e7c8d783-a473-4f3f-f083-e2faee210eba"
   },
   "outputs": [],
   "source": [
    "kor =[80, 20, 50, 20, 10, 50, 60, 30, 60]\n",
    "eng =[90, 40, 60, 40, 10, 30, 50, 70, 90]\n",
    "\n",
    "plt.scatter(kor, eng)\n",
    "plt.show()"
   ]
  },
  {
   "cell_type": "markdown",
   "metadata": {
    "id": "5WTso0tX1avg"
   },
   "source": [
    "<img src = 'https://github.com/teacher-jiejie/allinone_AI/blob/images/81_scatter.png?raw=true' width=800>"
   ]
  },
  {
   "cell_type": "markdown",
   "metadata": {
    "id": "UW5kHmlPi4SM"
   },
   "source": [
    "### 그래프 꾸미기 : x축 이름, y축 이름 붙이기\n",
    "\n",
    "\n",
    "```\n",
    "plt.xlabel('x축 이름')\n",
    "plt.ylabel('y축 이름')\n",
    "```\n",
    "\n"
   ]
  },
  {
   "cell_type": "code",
   "execution_count": null,
   "metadata": {
    "colab": {
     "base_uri": "https://localhost:8080/",
     "height": 402
    },
    "id": "o8txxthe5IKJ",
    "outputId": "ef8b20db-ff8a-4478-f6a0-cd25398cae87"
   },
   "outputs": [],
   "source": [
    "plt.figure(dpi=100)\n",
    "plt.rc('font', family='NanumGothic')\n",
    "plt.title('국어점수와 영어점수와의 상관관계')\n",
    "plt.scatter(kor, eng, c='indigo')\n",
    "plt.xlabel('국어점수')\n",
    "plt.ylabel('영어점수')\n",
    "plt.show()"
   ]
  },
  {
   "cell_type": "markdown",
   "metadata": {
    "id": "RXK9-hoI5IQM"
   },
   "source": [
    "# 그래프 명령어 정리 \n",
    "**그래프 그리는 포맷**\n",
    "```\n",
    "import matplotlib.pyplot as plt\n",
    "\n",
    "plt.title('그래프 제목')\n",
    "# --- 그래프 형태에 따라 알맞은 명령어 넣기 ---\n",
    "plt.show()\n",
    "```\n",
    "    \n",
    "\n",
    "**그래프 유형별 명령어**\n",
    "```\n",
    "# ---- 그래프 유형별 명령어\n",
    "# 꺾은선그래프\n",
    "plt.plot([x축 리스트], [y축 리스트])\n",
    "\n",
    "# 막대그래프 세로\n",
    "plt.bar([x축 리스트], [y축 리스트])\n",
    "\n",
    "# 막대그래프 가로\n",
    "plt.barh([x축 리스트], [y축 리스트])\n",
    "\n",
    "# 히스토그램 (x축, y축을 구분하지 않고 하나의 리스트만 넣음)\n",
    "plt.hist( [리스트], bins = 구간개수 )\n",
    "\n",
    "# 원 그래프 (x축, y축을 구분하지 않고 하나의 리스트만 넣음)\n",
    "plt.pie( [리스트], labels = [데이터 구간 이름])\n",
    "\n",
    "# 산점도\n",
    "plt.scatter([x축 리스트], [y축 리스트])\n",
    "```\n",
    "\n",
    "**그래프 명령어 내에 추가 가능한 옵션**\n",
    "\n",
    "```\n",
    "color = '색상이름' \n",
    "alpha = 투명도\n",
    "\n",
    "# plt.plot(), plt.bar(), plt.barh(), plt.scatter()는 label 사용\n",
    "label = '범례내용'\n",
    "\n",
    "# plt.pie(), plt.boxplot()은 labels 사용\n",
    "labels = [범례 리스트]\n",
    "\n",
    "# plt.pie()에 퍼센트 자동 표시\n",
    "autopct = ‘%1.1%%’\n",
    "```\n",
    "\n",
    "**기타 사용가능한 명령어**\n",
    "\n",
    "\n",
    "```\n",
    "plt.legend()            # 범례 나타내기\n",
    "plt.xlabel()            # x축 이름 붙이기\n",
    "plt.ylabel()            # y축 이름 붙이기\n",
    "```\n",
    "\n",
    "\n",
    "\n"
   ]
  },
  {
   "cell_type": "code",
   "execution_count": null,
   "metadata": {
    "colab": {
     "base_uri": "https://localhost:8080/"
    },
    "id": "CFMIV8gcnr2U",
    "outputId": "46b2fa00-a9be-46f5-c78e-51ac5ff28c51"
   },
   "outputs": [
    {
     "name": "stdout",
     "output_type": "stream",
     "text": [
      "Help on function barh in module matplotlib.pyplot:\n",
      "\n",
      "barh(y, width, height=0.8, left=None, *, align='center', **kwargs)\n",
      "    Make a horizontal bar plot.\n",
      "    \n",
      "    The bars are positioned at *y* with the given *align*\\ment. Their\n",
      "    dimensions are given by *width* and *height*. The horizontal baseline\n",
      "    is *left* (default 0).\n",
      "    \n",
      "    Each of *y*, *width*, *height*, and *left* may either be a scalar\n",
      "    applying to all bars, or it may be a sequence of length N providing a\n",
      "    separate value for each bar.\n",
      "    \n",
      "    Parameters\n",
      "    ----------\n",
      "    y : scalar or array-like\n",
      "        The y coordinates of the bars. See also *align* for the\n",
      "        alignment of the bars to the coordinates.\n",
      "    \n",
      "    width : scalar or array-like\n",
      "        The width(s) of the bars.\n",
      "    \n",
      "    height : sequence of scalars, optional, default: 0.8\n",
      "        The heights of the bars.\n",
      "    \n",
      "    left : sequence of scalars\n",
      "        The x coordinates of the left sides of the bars (default: 0).\n",
      "    \n",
      "    align : {'center', 'edge'}, optional, default: 'center'\n",
      "        Alignment of the base to the *y* coordinates*:\n",
      "    \n",
      "        - 'center': Center the bars on the *y* positions.\n",
      "        - 'edge': Align the bottom edges of the bars with the *y*\n",
      "          positions.\n",
      "    \n",
      "        To align the bars on the top edge pass a negative *height* and\n",
      "        ``align='edge'``.\n",
      "    \n",
      "    Returns\n",
      "    -------\n",
      "    container : `.BarContainer`\n",
      "        Container with all the bars and optionally errorbars.\n",
      "    \n",
      "    Other Parameters\n",
      "    ----------------\n",
      "    color : scalar or array-like, optional\n",
      "        The colors of the bar faces.\n",
      "    \n",
      "    edgecolor : scalar or array-like, optional\n",
      "        The colors of the bar edges.\n",
      "    \n",
      "    linewidth : scalar or array-like, optional\n",
      "        Width of the bar edge(s). If 0, don't draw edges.\n",
      "    \n",
      "    tick_label : str or array-like, optional\n",
      "        The tick labels of the bars.\n",
      "        Default: None (Use default numeric labels.)\n",
      "    \n",
      "    xerr, yerr : scalar or array-like of shape(N,) or shape(2, N), optional\n",
      "        If not ``None``, add horizontal / vertical errorbars to the\n",
      "        bar tips. The values are +/- sizes relative to the data:\n",
      "    \n",
      "        - scalar: symmetric +/- values for all bars\n",
      "        - shape(N,): symmetric +/- values for each bar\n",
      "        - shape(2, N): Separate - and + values for each bar. First row\n",
      "          contains the lower errors, the second row contains the upper\n",
      "          errors.\n",
      "        - *None*: No errorbar. (default)\n",
      "    \n",
      "        See :doc:`/gallery/statistics/errorbar_features`\n",
      "        for an example on the usage of ``xerr`` and ``yerr``.\n",
      "    \n",
      "    ecolor : scalar or array-like, optional, default: 'black'\n",
      "        The line color of the errorbars.\n",
      "    \n",
      "    capsize : scalar, optional\n",
      "       The length of the error bar caps in points.\n",
      "       Default: None, which will take the value from\n",
      "       :rc:`errorbar.capsize`.\n",
      "    \n",
      "    error_kw : dict, optional\n",
      "        Dictionary of kwargs to be passed to the `~.Axes.errorbar`\n",
      "        method. Values of *ecolor* or *capsize* defined here take\n",
      "        precedence over the independent kwargs.\n",
      "    \n",
      "    log : bool, optional, default: False\n",
      "        If ``True``, set the x-axis to be log scale.\n",
      "    \n",
      "    See also\n",
      "    --------\n",
      "    bar: Plot a vertical bar plot.\n",
      "    \n",
      "    Notes\n",
      "    -----\n",
      "    The optional arguments *color*, *edgecolor*, *linewidth*,\n",
      "    *xerr*, and *yerr* can be either scalars or sequences of\n",
      "    length equal to the number of bars.  This enables you to use\n",
      "    bar as the basis for stacked bar charts, or candlestick plots.\n",
      "    Detail: *xerr* and *yerr* are passed directly to\n",
      "    :meth:`errorbar`, so they can also have shape 2xN for\n",
      "    independent specification of lower and upper errors.\n",
      "    \n",
      "    Other optional kwargs:\n",
      "    \n",
      "    Properties:\n",
      "        agg_filter: a filter function, which takes a (m, n, 3) float array and a dpi value, and returns a (m, n, 3) array\n",
      "        alpha: float or None\n",
      "        animated: bool\n",
      "        antialiased or aa: unknown\n",
      "        capstyle: {'butt', 'round', 'projecting'}\n",
      "        clip_box: `.Bbox`\n",
      "        clip_on: bool\n",
      "        clip_path: Patch or (Path, Transform) or None\n",
      "        color: color\n",
      "        contains: callable\n",
      "        edgecolor or ec: color or None or 'auto'\n",
      "        facecolor or fc: color or None\n",
      "        figure: `.Figure`\n",
      "        fill: bool\n",
      "        gid: str\n",
      "        hatch: {'/', '\\\\', '|', '-', '+', 'x', 'o', 'O', '.', '*'}\n",
      "        in_layout: bool\n",
      "        joinstyle: {'miter', 'round', 'bevel'}\n",
      "        label: object\n",
      "        linestyle or ls: {'-', '--', '-.', ':', '', (offset, on-off-seq), ...}\n",
      "        linewidth or lw: float or None\n",
      "        path_effects: `.AbstractPathEffect`\n",
      "        picker: None or bool or float or callable\n",
      "        rasterized: bool or None\n",
      "        sketch_params: (scale: float, length: float, randomness: float)\n",
      "        snap: bool or None\n",
      "        transform: `.Transform`\n",
      "        url: str\n",
      "        visible: bool\n",
      "        zorder: float\n",
      "\n"
     ]
    }
   ],
   "source": [
    "help(plt.barh)"
   ]
  }
 ],
 "metadata": {
  "colab": {
   "authorship_tag": "ABX9TyNSPXKdZ1ihoU4iK/vb5Jz/",
   "collapsed_sections": [],
   "include_colab_link": true,
   "name": "8장-(완성본)-데이터시각화.ipynb",
   "provenance": []
  },
  "kernelspec": {
   "display_name": "Python 3 (ipykernel)",
   "language": "python",
   "name": "python3"
  },
  "language_info": {
   "codemirror_mode": {
    "name": "ipython",
    "version": 3
   },
   "file_extension": ".py",
   "mimetype": "text/x-python",
   "name": "python",
   "nbconvert_exporter": "python",
   "pygments_lexer": "ipython3",
   "version": "3.9.10"
  }
 },
 "nbformat": 4,
 "nbformat_minor": 4
}
