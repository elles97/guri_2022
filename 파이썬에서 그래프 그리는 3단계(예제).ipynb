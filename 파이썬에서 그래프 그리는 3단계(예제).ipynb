{
 "cells": [
  {
   "cell_type": "code",
   "execution_count": 1,
   "id": "34bb47e7-8eb7-4d27-854d-2f1f09e9dc8b",
   "metadata": {},
   "outputs": [],
   "source": [
    "#1 matplotlib 라이브러리 불러오기\n",
    "\n",
    "#2 그래프 종류 선택 및 속성 설정하기\n",
    "\n",
    "#3 그래프 보여주기\n"
   ]
  },
  {
   "cell_type": "code",
   "execution_count": null,
   "id": "2aeb0a4e-0182-4bd5-b8c2-62f1cad9701d",
   "metadata": {},
   "outputs": [],
   "source": []
  }
 ],
 "metadata": {
  "kernelspec": {
   "display_name": "Python 3 (ipykernel)",
   "language": "python",
   "name": "python3"
  },
  "language_info": {
   "codemirror_mode": {
    "name": "ipython",
    "version": 3
   },
   "file_extension": ".py",
   "mimetype": "text/x-python",
   "name": "python",
   "nbconvert_exporter": "python",
   "pygments_lexer": "ipython3",
   "version": "3.9.10"
  }
 },
 "nbformat": 4,
 "nbformat_minor": 5
}
