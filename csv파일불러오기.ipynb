{
 "cells": [
  {
   "cell_type": "code",
   "execution_count": 1,
   "id": "622cf7bc-25aa-4d28-810b-24b0c23cc1d4",
   "metadata": {},
   "outputs": [],
   "source": [
    "#1.CSV 라이브러리 불러오기\n",
    "\n",
    "#2.CSV파일열기\n",
    "\n",
    "#3.데이터를 컴마로 구분하여 저장하기\n",
    "\n",
    "#4.for 반복문으로 한줄씩 꺼내기\n"
   ]
  },
  {
   "cell_type": "code",
   "execution_count": null,
   "id": "82189779-3c66-4690-835c-15416afdf178",
   "metadata": {},
   "outputs": [],
   "source": []
  }
 ],
 "metadata": {
  "kernelspec": {
   "display_name": "Python 3 (ipykernel)",
   "language": "python",
   "name": "python3"
  },
  "language_info": {
   "codemirror_mode": {
    "name": "ipython",
    "version": 3
   },
   "file_extension": ".py",
   "mimetype": "text/x-python",
   "name": "python",
   "nbconvert_exporter": "python",
   "pygments_lexer": "ipython3",
   "version": "3.9.10"
  }
 },
 "nbformat": 4,
 "nbformat_minor": 5
}
