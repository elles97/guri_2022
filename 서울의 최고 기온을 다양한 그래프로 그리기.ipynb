{
 "cells": [
  {
   "cell_type": "code",
   "execution_count": null,
   "id": "dd00169f-e395-4937-a29a-b46606caf909",
   "metadata": {},
   "outputs": [],
   "source": [
    "# 1) 필요한 라이브러리 불어오기\n",
    "import matplotlib.pyplot as plt\n",
    "import csv\n",
    "# 2) 기온 데이터 불어오기\n",
    "f=open('seoul_temp.csv',encoding='cp949')\n",
    "data=csv.reader(f)\n",
    "\n",
    "for row in data:\n",
    "    print(row)\n",
    "                     \n",
    "# 3) 기온 데이터에서 최고 기온을 순서대로 저장하기\n",
    "# 4) 저장된 데이터를 다양한 그래프로 그리기\n",
    "\n",
    "# 5) 결과 그래프 보여주기"
   ]
  }
 ],
 "metadata": {
  "kernelspec": {
   "display_name": "Python 3 (ipykernel)",
   "language": "python",
   "name": "python3"
  },
  "language_info": {
   "codemirror_mode": {
    "name": "ipython",
    "version": 3
   },
   "file_extension": ".py",
   "mimetype": "text/x-python",
   "name": "python",
   "nbconvert_exporter": "python",
   "pygments_lexer": "ipython3",
   "version": "3.9.10"
  }
 },
 "nbformat": 4,
 "nbformat_minor": 5
}
