{
 "cells": [
  {
   "cell_type": "code",
   "execution_count": 22,
   "id": "bb66918b-7ed3-448f-9538-e14fbfe77776",
   "metadata": {},
   "outputs": [
    {
     "name": "stdout",
     "output_type": "stream",
     "text": [
      "[254, 275, 272, 315, 309, 345, 414, 396, 381, 383, 389, 425, 355, 395, 367, 317, 325, 312, 329, 346, 337, 410, 388, 377, 417, 435, 474, 440, 477, 482, 520, 496, 512, 633, 617, 654, 602, 628, 662, 714, 716, 718, 717, 652, 647, 622, 574, 654, 652, 649, 595, 596, 562, 567, 424, 482, 497, 510, 386, 501, 469, 475, 460, 473, 421, 383, 429, 374, 369, 337, 280, 245, 271, 241, 244, 221, 145, 130, 136, 137, 133, 111, 95, 106, 69, 70, 70, 46, 37, 34, 21, 22, 10, 17, 13, 8, 6, 5, 4, 1, 3]\n"
     ]
    }
   ],
   "source": [
    "# 필요한 라이브러리 불러오기\n",
    "import matplotlib.pyplot as plt     \n",
    "import csv\n",
    "#import urllib\n",
    "#from matplotlib import font_manager\n",
    "# 글꼴을 내려받습니다.\n",
    "#font_path = 'NanumGothic.ttf'\n",
    "#with open(font_path, 'wb') as f: \n",
    "#    f.write(urllib.request.urlopen(\"https://github.com/team-monolith-product/jupyter-nanum/raw/main/NanumGothic.ttf\").read())\n",
    "\n",
    "# 글꼴을 등록합니다.\n",
    "#font_manager.fontManager.addfont(font_path)\n",
    "#plt.rcParams['font.family'] = font_manager.FontProperties(fname=font_path).get_name()\n",
    "\n",
    "# 인구 데이터 불러오기\n",
    "f=open('population.csv', encoding='cp949')\n",
    "data=csv.reader(f)\n",
    "        \n",
    "# 우리 동네 인구 데이터를 연령 순서대로 저장하기\n",
    "mytown=[]\n",
    "for row in data :             \n",
    "    if '신도림' in row[0] :\n",
    "        for i in range(3,104) :     \n",
    "            mytown.append(int(row[i]))\n",
    "print(mytown)\n",
    "#저장된 데이터를 꺽은선 그래프로 그리기\n",
    "#plt.figure(dpi=200)\n",
    "#plt.style.use('ggplot')\n",
    "#plt.title('신도림동의 인구 구조 ')\n",
    "#plt.plot(mytown)\n",
    "# 결과 그래프 보여주기\n",
    "#plt.savefig('신도림.png')\n",
    "#plt.show()"
   ]
  },
  {
   "cell_type": "code",
   "execution_count": null,
   "id": "af9a8ea1-9fb0-40ea-be60-a2e0f0ecb043",
   "metadata": {},
   "outputs": [],
   "source": []
  }
 ],
 "metadata": {
  "kernelspec": {
   "display_name": "Python 3 (ipykernel)",
   "language": "python",
   "name": "python3"
  },
  "language_info": {
   "codemirror_mode": {
    "name": "ipython",
    "version": 3
   },
   "file_extension": ".py",
   "mimetype": "text/x-python",
   "name": "python",
   "nbconvert_exporter": "python",
   "pygments_lexer": "ipython3",
   "version": "3.9.10"
  }
 },
 "nbformat": 4,
 "nbformat_minor": 5
}
